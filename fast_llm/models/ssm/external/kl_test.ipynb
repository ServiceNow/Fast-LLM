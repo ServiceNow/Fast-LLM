{
 "cells": [
  {
   "cell_type": "code",
   "execution_count": null,
   "id": "7c32a36f",
   "metadata": {},
   "outputs": [
    {
     "name": "stdout",
     "output_type": "stream",
     "text": [
      "tensor(0.6451)\n",
      "KL (global, F.kl_div)        = 0.738795\n",
      "KL (sum of shards, manual)  = 0.738795\n"
     ]
    }
   ],
   "source": [
    "import torch\n",
    "import torch.nn.functional as F\n",
    "\n",
    "torch.manual_seed(0)\n",
    "\n",
    "# Simulated logits\n",
    "batch_size = 2\n",
    "vocab_size = 10\n",
    "\n",
    "logits_q = torch.randn(batch_size, vocab_size)  # \"student\"\n",
    "logits_p = torch.randn(batch_size, vocab_size)  # \"teacher\"\n",
    "\n",
    "# Compute log-softmax for each\n",
    "log_q = F.log_softmax(logits_q, dim=-1)  # log Q\n",
    "log_p = F.log_softmax(logits_p, dim=-1)  # log P\n",
    "\n",
    "# Global KL using F.kl_div\n",
    "kl_global = F.kl_div(log_p, log_q, reduction='batchmean', log_target=True)\n",
    "\n",
    "# Local shards: split vocab in two chunks\n",
    "shard_1 = slice(0, vocab_size // 2)\n",
    "shard_2 = slice(vocab_size // 2, vocab_size)\n",
    "\n",
    "# Compute local KLs with reduction='none', then sum and average\n",
    "kl_local_1 = F.kl_div(\n",
    "    log_p[:, shard_1],\n",
    "    log_q[:, shard_1],\n",
    "    reduction='batchmean',\n",
    "    log_target=True,\n",
    ")  # shape: [B, vocab_shard]\n",
    "kl_local_2 = F.kl_div(\n",
    "    log_p[:, shard_2],\n",
    "    log_q[:, shard_2],\n",
    "    reduction='batchmean',\n",
    "    log_target=True,\n",
    ")\n",
    "print(kl_local_2)\n",
    "# Combine local losses\n",
    "kl_manual = (kl_local_1 + kl_local_2)\n",
    "# ✅ Print to verify\n",
    "print(f\"KL (global, F.kl_div)        = {kl_global.item():.6f}\")\n",
    "print(f\"KL (sum of shards, manual)  = {kl_manual.item():.6f}\")"
   ]
  }
 ],
 "metadata": {
  "kernelspec": {
   "display_name": "fast_llm",
   "language": "python",
   "name": "python3"
  },
  "language_info": {
   "codemirror_mode": {
    "name": "ipython",
    "version": 3
   },
   "file_extension": ".py",
   "mimetype": "text/x-python",
   "name": "python",
   "nbconvert_exporter": "python",
   "pygments_lexer": "ipython3",
   "version": "3.12.8"
  }
 },
 "nbformat": 4,
 "nbformat_minor": 5
}
